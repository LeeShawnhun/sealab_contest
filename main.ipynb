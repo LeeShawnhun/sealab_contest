{
 "cells": [
  {
   "cell_type": "markdown",
   "id": "558c0b20",
   "metadata": {},
   "source": [
    "# 패키지 다운로드"
   ]
  },
  {
   "cell_type": "code",
   "execution_count": 1,
   "id": "0d4cd76a",
   "metadata": {},
   "outputs": [
    {
     "name": "stdout",
     "output_type": "stream",
     "text": [
      "Requirement already satisfied: xarray in c:\\users\\digital1\\anaconda3\\lib\\site-packages (0.20.1)Note: you may need to restart the kernel to use updated packages.\n",
      "\n",
      "Requirement already satisfied: numpy>=1.18 in c:\\users\\digital1\\anaconda3\\lib\\site-packages (from xarray) (1.26.4)\n",
      "Requirement already satisfied: pandas>=1.1 in c:\\users\\digital1\\anaconda3\\lib\\site-packages (from xarray) (1.4.4)\n",
      "Requirement already satisfied: python-dateutil>=2.8.1 in c:\\users\\digital1\\anaconda3\\lib\\site-packages (from pandas>=1.1->xarray) (2.8.2)\n",
      "Requirement already satisfied: pytz>=2020.1 in c:\\users\\digital1\\anaconda3\\lib\\site-packages (from pandas>=1.1->xarray) (2022.1)\n",
      "Requirement already satisfied: six>=1.5 in c:\\users\\digital1\\anaconda3\\lib\\site-packages (from python-dateutil>=2.8.1->pandas>=1.1->xarray) (1.16.0)\n"
     ]
    }
   ],
   "source": [
    "# pip install xarray"
   ]
  },
  {
   "cell_type": "markdown",
   "id": "ef86aa59",
   "metadata": {},
   "source": [
    "# 패키지 로딩"
   ]
  },
  {
   "cell_type": "code",
   "execution_count": 2,
   "id": "5038351a",
   "metadata": {},
   "outputs": [],
   "source": [
    "import xarray as xr\n",
    "import pandas as pd"
   ]
  },
  {
   "cell_type": "markdown",
   "id": "36d7b51c",
   "metadata": {},
   "source": [
    "# 종속변수(SCTR) 전처리"
   ]
  },
  {
   "cell_type": "markdown",
   "id": "828b461f",
   "metadata": {},
   "source": [
    "## nc -> csv 변환"
   ]
  },
  {
   "cell_type": "code",
   "execution_count": 7,
   "id": "4e276931",
   "metadata": {},
   "outputs": [],
   "source": [
    "ds = xr.open_dataset('./data/EN.4.2.2_D20_SCTR_f.nc')\n",
    "\n",
    "df = ds.D20_SCTR.to_dataframe()\n",
    "\n",
    "df.reset_index(inplace=True)\n",
    "\n",
    "df.to_csv('./output/SCTR.csv', index=False)\n",
    "\n",
    "ds.close()"
   ]
  },
  {
   "cell_type": "markdown",
   "id": "d12338c1",
   "metadata": {},
   "source": [
    "# 종속변수 불러오기"
   ]
  },
  {
   "cell_type": "code",
   "execution_count": 9,
   "id": "2abac1f0",
   "metadata": {},
   "outputs": [
    {
     "data": {
      "text/html": [
       "<div>\n",
       "<style scoped>\n",
       "    .dataframe tbody tr th:only-of-type {\n",
       "        vertical-align: middle;\n",
       "    }\n",
       "\n",
       "    .dataframe tbody tr th {\n",
       "        vertical-align: top;\n",
       "    }\n",
       "\n",
       "    .dataframe thead th {\n",
       "        text-align: right;\n",
       "    }\n",
       "</style>\n",
       "<table border=\"1\" class=\"dataframe\">\n",
       "  <thead>\n",
       "    <tr style=\"text-align: right;\">\n",
       "      <th></th>\n",
       "      <th>TIME1</th>\n",
       "      <th>D20_SCTR</th>\n",
       "    </tr>\n",
       "  </thead>\n",
       "  <tbody>\n",
       "    <tr>\n",
       "      <th>0</th>\n",
       "      <td>1991-01-01</td>\n",
       "      <td>54.960640</td>\n",
       "    </tr>\n",
       "    <tr>\n",
       "      <th>1</th>\n",
       "      <td>1991-02-01</td>\n",
       "      <td>59.899442</td>\n",
       "    </tr>\n",
       "    <tr>\n",
       "      <th>2</th>\n",
       "      <td>1991-03-01</td>\n",
       "      <td>70.225124</td>\n",
       "    </tr>\n",
       "    <tr>\n",
       "      <th>3</th>\n",
       "      <td>1991-04-01</td>\n",
       "      <td>67.375125</td>\n",
       "    </tr>\n",
       "    <tr>\n",
       "      <th>4</th>\n",
       "      <td>1991-05-01</td>\n",
       "      <td>63.783066</td>\n",
       "    </tr>\n",
       "    <tr>\n",
       "      <th>...</th>\n",
       "      <td>...</td>\n",
       "      <td>...</td>\n",
       "    </tr>\n",
       "    <tr>\n",
       "      <th>395</th>\n",
       "      <td>2023-12-01</td>\n",
       "      <td>124.376897</td>\n",
       "    </tr>\n",
       "    <tr>\n",
       "      <th>396</th>\n",
       "      <td>2024-01-01</td>\n",
       "      <td>117.300079</td>\n",
       "    </tr>\n",
       "    <tr>\n",
       "      <th>397</th>\n",
       "      <td>2024-02-01</td>\n",
       "      <td>121.968669</td>\n",
       "    </tr>\n",
       "    <tr>\n",
       "      <th>398</th>\n",
       "      <td>2024-03-01</td>\n",
       "      <td>118.355688</td>\n",
       "    </tr>\n",
       "    <tr>\n",
       "      <th>399</th>\n",
       "      <td>2024-04-01</td>\n",
       "      <td>108.767079</td>\n",
       "    </tr>\n",
       "  </tbody>\n",
       "</table>\n",
       "<p>400 rows × 2 columns</p>\n",
       "</div>"
      ],
      "text/plain": [
       "         TIME1    D20_SCTR\n",
       "0   1991-01-01   54.960640\n",
       "1   1991-02-01   59.899442\n",
       "2   1991-03-01   70.225124\n",
       "3   1991-04-01   67.375125\n",
       "4   1991-05-01   63.783066\n",
       "..         ...         ...\n",
       "395 2023-12-01  124.376897\n",
       "396 2024-01-01  117.300079\n",
       "397 2024-02-01  121.968669\n",
       "398 2024-03-01  118.355688\n",
       "399 2024-04-01  108.767079\n",
       "\n",
       "[400 rows x 2 columns]"
      ]
     },
     "execution_count": 9,
     "metadata": {},
     "output_type": "execute_result"
    }
   ],
   "source": [
    "sctr = pd.read_csv(\"./output/SCTR.csv\")\n",
    "\n",
    "sctr[\"TIME1\"] = pd.to_datetime(sctr[\"TIME1\"])\n",
    "\n",
    "sctr[\"TIME1\"] = sctr[\"TIME1\"].dt.to_period('M').dt.to_timestamp()\n",
    "\n",
    "sctr"
   ]
  },
  {
   "cell_type": "markdown",
   "id": "8c2cd224",
   "metadata": {},
   "source": [
    "# 독립변수 전처리"
   ]
  },
  {
   "cell_type": "markdown",
   "id": "c7d6cafb",
   "metadata": {},
   "source": [
    "## IOD"
   ]
  },
  {
   "cell_type": "markdown",
   "id": "e104c52c",
   "metadata": {},
   "source": [
    "### txt -> csv 변환"
   ]
  },
  {
   "cell_type": "code",
   "execution_count": 17,
   "id": "222217d4",
   "metadata": {},
   "outputs": [],
   "source": [
    "IOD = pd.read_csv(\"./data/IOD.txt\", sep=\"\\t\", encoding=\"cp949\")\n",
    "\n",
    "IOD['Date'] = pd.to_datetime(IOD['Year'].astype(str) + '-' + IOD['Month'].astype(str) + '-01')\n",
    "\n",
    "IOD = IOD.drop([\"Year\", \"Month\"], axis = 1)\n",
    "\n",
    "IOD = IOD[[\"Date\", \"WTIO\", \"SETIO\"]]\n",
    "\n",
    "IOD.to_csv(\"./output/IOD.csv\", encoding=\"utf-8-sig\")"
   ]
  },
  {
   "cell_type": "markdown",
   "id": "8afefb70",
   "metadata": {},
   "source": [
    "## ONI"
   ]
  },
  {
   "cell_type": "markdown",
   "id": "cb72492e",
   "metadata": {},
   "source": [
    "### txt -> csv 변환"
   ]
  },
  {
   "cell_type": "code",
   "execution_count": 25,
   "id": "9b7ec43d",
   "metadata": {},
   "outputs": [
    {
     "data": {
      "text/html": [
       "<div>\n",
       "<style scoped>\n",
       "    .dataframe tbody tr th:only-of-type {\n",
       "        vertical-align: middle;\n",
       "    }\n",
       "\n",
       "    .dataframe tbody tr th {\n",
       "        vertical-align: top;\n",
       "    }\n",
       "\n",
       "    .dataframe thead th {\n",
       "        text-align: right;\n",
       "    }\n",
       "</style>\n",
       "<table border=\"1\" class=\"dataframe\">\n",
       "  <thead>\n",
       "    <tr style=\"text-align: right;\">\n",
       "      <th></th>\n",
       "      <th>Date</th>\n",
       "      <th>ONI</th>\n",
       "    </tr>\n",
       "  </thead>\n",
       "  <tbody>\n",
       "    <tr>\n",
       "      <th>0</th>\n",
       "      <td>1991-01-01</td>\n",
       "      <td>0.41</td>\n",
       "    </tr>\n",
       "    <tr>\n",
       "      <th>1</th>\n",
       "      <td>1991-02-01</td>\n",
       "      <td>0.26</td>\n",
       "    </tr>\n",
       "    <tr>\n",
       "      <th>2</th>\n",
       "      <td>1991-03-01</td>\n",
       "      <td>0.22</td>\n",
       "    </tr>\n",
       "    <tr>\n",
       "      <th>3</th>\n",
       "      <td>1991-04-01</td>\n",
       "      <td>0.26</td>\n",
       "    </tr>\n",
       "    <tr>\n",
       "      <th>4</th>\n",
       "      <td>1991-05-01</td>\n",
       "      <td>0.45</td>\n",
       "    </tr>\n",
       "    <tr>\n",
       "      <th>...</th>\n",
       "      <td>...</td>\n",
       "      <td>...</td>\n",
       "    </tr>\n",
       "    <tr>\n",
       "      <th>396</th>\n",
       "      <td>2024-01-01</td>\n",
       "      <td>1.79</td>\n",
       "    </tr>\n",
       "    <tr>\n",
       "      <th>397</th>\n",
       "      <td>2024-02-01</td>\n",
       "      <td>1.49</td>\n",
       "    </tr>\n",
       "    <tr>\n",
       "      <th>398</th>\n",
       "      <td>2024-03-01</td>\n",
       "      <td>1.14</td>\n",
       "    </tr>\n",
       "    <tr>\n",
       "      <th>399</th>\n",
       "      <td>2024-04-01</td>\n",
       "      <td>0.71</td>\n",
       "    </tr>\n",
       "    <tr>\n",
       "      <th>400</th>\n",
       "      <td>2024-05-01</td>\n",
       "      <td>0.39</td>\n",
       "    </tr>\n",
       "  </tbody>\n",
       "</table>\n",
       "<p>401 rows × 2 columns</p>\n",
       "</div>"
      ],
      "text/plain": [
       "          Date   ONI\n",
       "0   1991-01-01  0.41\n",
       "1   1991-02-01  0.26\n",
       "2   1991-03-01  0.22\n",
       "3   1991-04-01  0.26\n",
       "4   1991-05-01  0.45\n",
       "..         ...   ...\n",
       "396 2024-01-01  1.79\n",
       "397 2024-02-01  1.49\n",
       "398 2024-03-01  1.14\n",
       "399 2024-04-01  0.71\n",
       "400 2024-05-01  0.39\n",
       "\n",
       "[401 rows x 2 columns]"
      ]
     },
     "execution_count": 25,
     "metadata": {},
     "output_type": "execute_result"
    }
   ],
   "source": [
    "ONI = pd.read_csv(\"./data/ONI.txt\", sep=\"\\t\", encoding=\"cp949\")\n",
    "\n",
    "ONI['Date'] = pd.to_datetime(ONI['Date'].astype(str) + '-01')\n",
    "\n",
    "ONI.to_csv(\"./output/ONI.csv\", encoding=\"utf-8-sig\")"
   ]
  }
 ],
 "metadata": {
  "kernelspec": {
   "display_name": "Python 3 (ipykernel)",
   "language": "python",
   "name": "python3"
  },
  "language_info": {
   "codemirror_mode": {
    "name": "ipython",
    "version": 3
   },
   "file_extension": ".py",
   "mimetype": "text/x-python",
   "name": "python",
   "nbconvert_exporter": "python",
   "pygments_lexer": "ipython3",
   "version": "3.9.13"
  },
  "toc": {
   "base_numbering": 1,
   "nav_menu": {},
   "number_sections": true,
   "sideBar": true,
   "skip_h1_title": false,
   "title_cell": "Table of Contents",
   "title_sidebar": "Contents",
   "toc_cell": false,
   "toc_position": {},
   "toc_section_display": true,
   "toc_window_display": false
  }
 },
 "nbformat": 4,
 "nbformat_minor": 5
}
