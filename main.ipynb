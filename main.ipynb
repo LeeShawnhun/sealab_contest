{
 "cells": [
  {
   "cell_type": "markdown",
   "id": "558c0b20",
   "metadata": {},
   "source": [
    "# 패키지 다운로드"
   ]
  },
  {
   "cell_type": "code",
   "execution_count": null,
   "id": "0d4cd76a",
   "metadata": {},
   "outputs": [],
   "source": [
    "# pip install xarray"
   ]
  },
  {
   "cell_type": "markdown",
   "id": "ef86aa59",
   "metadata": {},
   "source": [
    "# 패키지 로딩"
   ]
  },
  {
   "cell_type": "code",
   "execution_count": 24,
   "id": "5038351a",
   "metadata": {},
   "outputs": [],
   "source": [
    "import xarray as xr\n",
    "\n",
    "import pandas as pd\n",
    "import numpy as np\n",
    "\n",
    "import tensorflow as tf\n",
    "\n",
    "import warnings\n",
    "\n",
    "warnings.filterwarnings(\"ignore\")"
   ]
  },
  {
   "cell_type": "markdown",
   "id": "36d7b51c",
   "metadata": {},
   "source": [
    "# 종속변수(SCTR) 전처리"
   ]
  },
  {
   "cell_type": "markdown",
   "id": "d43df255",
   "metadata": {},
   "source": [
    "## nc -> csv 변환"
   ]
  },
  {
   "cell_type": "code",
   "execution_count": null,
   "id": "4e276931",
   "metadata": {},
   "outputs": [],
   "source": [
    "ds = xr.open_dataset('./data/EN.4.2.2_D20_SCTR_f.nc')\n",
    "\n",
    "df = ds.D20_SCTR.to_dataframe()\n",
    "\n",
    "df.reset_index(inplace=True)\n",
    "\n",
    "df.to_csv('./output/SCTR.csv', index=False)\n",
    "\n",
    "ds.close()"
   ]
  },
  {
   "cell_type": "markdown",
   "id": "d12338c1",
   "metadata": {},
   "source": [
    "# 종속변수 불러오기"
   ]
  },
  {
   "cell_type": "code",
   "execution_count": 3,
   "id": "2abac1f0",
   "metadata": {},
   "outputs": [
    {
     "data": {
      "text/html": [
       "<div>\n",
       "<style scoped>\n",
       "    .dataframe tbody tr th:only-of-type {\n",
       "        vertical-align: middle;\n",
       "    }\n",
       "\n",
       "    .dataframe tbody tr th {\n",
       "        vertical-align: top;\n",
       "    }\n",
       "\n",
       "    .dataframe thead th {\n",
       "        text-align: right;\n",
       "    }\n",
       "</style>\n",
       "<table border=\"1\" class=\"dataframe\">\n",
       "  <thead>\n",
       "    <tr style=\"text-align: right;\">\n",
       "      <th></th>\n",
       "      <th>Date</th>\n",
       "      <th>D20_SCTR</th>\n",
       "    </tr>\n",
       "  </thead>\n",
       "  <tbody>\n",
       "    <tr>\n",
       "      <th>0</th>\n",
       "      <td>1991-01-01</td>\n",
       "      <td>54.960640</td>\n",
       "    </tr>\n",
       "    <tr>\n",
       "      <th>1</th>\n",
       "      <td>1991-02-01</td>\n",
       "      <td>59.899442</td>\n",
       "    </tr>\n",
       "    <tr>\n",
       "      <th>2</th>\n",
       "      <td>1991-03-01</td>\n",
       "      <td>70.225124</td>\n",
       "    </tr>\n",
       "    <tr>\n",
       "      <th>3</th>\n",
       "      <td>1991-04-01</td>\n",
       "      <td>67.375125</td>\n",
       "    </tr>\n",
       "    <tr>\n",
       "      <th>4</th>\n",
       "      <td>1991-05-01</td>\n",
       "      <td>63.783066</td>\n",
       "    </tr>\n",
       "    <tr>\n",
       "      <th>...</th>\n",
       "      <td>...</td>\n",
       "      <td>...</td>\n",
       "    </tr>\n",
       "    <tr>\n",
       "      <th>395</th>\n",
       "      <td>2023-12-01</td>\n",
       "      <td>124.376897</td>\n",
       "    </tr>\n",
       "    <tr>\n",
       "      <th>396</th>\n",
       "      <td>2024-01-01</td>\n",
       "      <td>117.300079</td>\n",
       "    </tr>\n",
       "    <tr>\n",
       "      <th>397</th>\n",
       "      <td>2024-02-01</td>\n",
       "      <td>121.968669</td>\n",
       "    </tr>\n",
       "    <tr>\n",
       "      <th>398</th>\n",
       "      <td>2024-03-01</td>\n",
       "      <td>118.355688</td>\n",
       "    </tr>\n",
       "    <tr>\n",
       "      <th>399</th>\n",
       "      <td>2024-04-01</td>\n",
       "      <td>108.767079</td>\n",
       "    </tr>\n",
       "  </tbody>\n",
       "</table>\n",
       "<p>400 rows × 2 columns</p>\n",
       "</div>"
      ],
      "text/plain": [
       "          Date    D20_SCTR\n",
       "0   1991-01-01   54.960640\n",
       "1   1991-02-01   59.899442\n",
       "2   1991-03-01   70.225124\n",
       "3   1991-04-01   67.375125\n",
       "4   1991-05-01   63.783066\n",
       "..         ...         ...\n",
       "395 2023-12-01  124.376897\n",
       "396 2024-01-01  117.300079\n",
       "397 2024-02-01  121.968669\n",
       "398 2024-03-01  118.355688\n",
       "399 2024-04-01  108.767079\n",
       "\n",
       "[400 rows x 2 columns]"
      ]
     },
     "execution_count": 3,
     "metadata": {},
     "output_type": "execute_result"
    }
   ],
   "source": [
    "sctr = pd.read_csv(\"./output/SCTR.csv\")\n",
    "\n",
    "# 날짜 형식 통일\n",
    "sctr[\"TIME1\"] = pd.to_datetime(sctr[\"TIME1\"])\n",
    "sctr[\"TIME1\"] = sctr[\"TIME1\"].dt.to_period('M').dt.to_timestamp()\n",
    "\n",
    "# 날짜 컬럼 이름 변경\n",
    "sctr = sctr.rename(columns={\"TIME1\":\"Date\"})\n",
    "\n",
    "sctr"
   ]
  },
  {
   "cell_type": "markdown",
   "id": "ab56f5e1",
   "metadata": {},
   "source": [
    "# 독립변수 전처리"
   ]
  },
  {
   "cell_type": "markdown",
   "id": "1833f434",
   "metadata": {},
   "source": [
    "## IOD\n",
    "- WTIO  : 동경 50도 ~ 70도, 남위 10도 ~ 북위 10도에서 SST 편차의 평균 \n",
    "- SETIO : 동경 90도 ~ 110도, 남위 10도 ~ 적도선에서 SST 편차의 평균\n",
    "- DMI  = WTIO - SETIO"
   ]
  },
  {
   "cell_type": "markdown",
   "id": "15dee0e7",
   "metadata": {},
   "source": [
    "### txt -> csv 변환"
   ]
  },
  {
   "cell_type": "code",
   "execution_count": null,
   "id": "af1fa747",
   "metadata": {},
   "outputs": [],
   "source": [
    "IOD = pd.read_csv(\"./data/IOD.txt\", sep=\"\\t\", encoding=\"cp949\")\n",
    "\n",
    "# 날짜 형식 통일\n",
    "IOD['Date'] = pd.to_datetime(IOD['Year'].astype(str) + '-' + IOD['Month'].astype(str) + '-01')\n",
    "IOD = IOD.drop([\"Year\", \"Month\"], axis = 1)\n",
    "IOD = IOD[[\"Date\", \"WTIO\", \"SETIO\"]]\n",
    "\n",
    "# DMI(Dipole Mode Index) 컬럼 생성\n",
    "IOD[\"DMI\"] = IOD[\"WTIO\"] - IOD[\"SETIO\"]\n",
    "\n",
    "IOD.to_csv(\"./output/IOD.csv\", encoding=\"utf-8-sig\", index=False)"
   ]
  },
  {
   "cell_type": "code",
   "execution_count": null,
   "id": "6b4ba2ad",
   "metadata": {},
   "outputs": [],
   "source": [
    "IOD = pd.read_csv(\"./output/IOD.csv\")\n",
    "\n",
    "IOD"
   ]
  },
  {
   "cell_type": "markdown",
   "id": "4b51c976",
   "metadata": {},
   "source": [
    "## ONI"
   ]
  },
  {
   "cell_type": "markdown",
   "id": "8e247b8e",
   "metadata": {},
   "source": [
    "### txt -> csv 변환"
   ]
  },
  {
   "cell_type": "code",
   "execution_count": null,
   "id": "619b1beb",
   "metadata": {},
   "outputs": [],
   "source": [
    "ONI = pd.read_csv(\"./data/ONI.txt\", sep=\"\\t\", encoding=\"cp949\")\n",
    "\n",
    "# 날짜 형식 통일\n",
    "ONI['Date'] = pd.to_datetime(ONI['Date'].astype(str) + '-01')\n",
    "\n",
    "ONI.to_csv(\"./output/ONI.csv\", encoding=\"utf-8-sig\", index=False)"
   ]
  },
  {
   "cell_type": "code",
   "execution_count": null,
   "id": "c8431155",
   "metadata": {},
   "outputs": [],
   "source": [
    "ONI = pd.read_csv(\"./output/ONI.csv\")\n",
    "\n",
    "ONI"
   ]
  },
  {
   "cell_type": "markdown",
   "id": "3967362c",
   "metadata": {},
   "source": [
    "## OISST\n",
    "- NINO 3.4(북위 5도 ~ 남위 5도, 서경 170도 ~ 120도)의 평균 해수면 온도 & 편차"
   ]
  },
  {
   "cell_type": "markdown",
   "id": "f37c0de3",
   "metadata": {},
   "source": [
    "### txt -> csv 변환"
   ]
  },
  {
   "cell_type": "code",
   "execution_count": null,
   "id": "29cae4a2",
   "metadata": {},
   "outputs": [],
   "source": [
    "OISST = pd.read_csv(\"./data/OISST.txt\", sep=\"\\t\", encoding=\"cp949\")\n",
    "\n",
    "OISST['Date'] = pd.to_datetime(OISST['Date'])\n",
    "\n",
    "OISST.to_csv(\"./output/OISST.csv\", encoding=\"utf-8-sig\", index=False)"
   ]
  },
  {
   "cell_type": "code",
   "execution_count": null,
   "id": "e4a4b75e",
   "metadata": {},
   "outputs": [],
   "source": [
    "OISST = pd.read_csv(\"./output/OISST.csv\")\n",
    "\n",
    "OISST"
   ]
  },
  {
   "cell_type": "markdown",
   "id": "11f55a0c",
   "metadata": {},
   "source": [
    "## SOI\n",
    "- 남방진동지수, Darwin - Tahiti 사이의 표준화된 해면기압 차이"
   ]
  },
  {
   "cell_type": "markdown",
   "id": "737512d2",
   "metadata": {},
   "source": [
    "### txt -> csv 변환"
   ]
  },
  {
   "cell_type": "code",
   "execution_count": null,
   "id": "4870a00a",
   "metadata": {},
   "outputs": [],
   "source": [
    "SOI = pd.read_csv(\"./data/SOI.txt\", sep=\"\\t\", encoding=\"cp949\")\n",
    "\n",
    "# 날짜 형식 통일\n",
    "SOI['Date'] = pd.to_datetime(SOI['Date'].astype(str) + '-01')\n",
    "\n",
    "SOI.to_csv(\"./output/SOI.csv\", encoding=\"utf-8-sig\", index=False)"
   ]
  },
  {
   "cell_type": "code",
   "execution_count": null,
   "id": "edf65fba",
   "metadata": {},
   "outputs": [],
   "source": [
    "SOI = pd.read_csv(\"./output/SOI.csv\")\n",
    "\n",
    "SOI"
   ]
  },
  {
   "cell_type": "markdown",
   "id": "ba6ec86e",
   "metadata": {},
   "source": [
    "## 독립변수 합치기"
   ]
  },
  {
   "cell_type": "code",
   "execution_count": null,
   "id": "ee1e729d",
   "metadata": {},
   "outputs": [],
   "source": [
    "df = pd.merge(IOD, ONI, on=\"Date\")\n",
    "df = pd.merge(df, OISST, on=\"Date\")\n",
    "df = pd.merge(df, SOI, on=\"Date\")\n",
    "\n",
    "df.to_csv(\"./output/IND.csv\", encoding=\"utf-8-sig\", index=False)"
   ]
  },
  {
   "cell_type": "markdown",
   "id": "75261a8c",
   "metadata": {},
   "source": [
    "# 독립변수 불러오기 & 종속변수 합치기"
   ]
  },
  {
   "cell_type": "code",
   "execution_count": 4,
   "id": "7a5a95dc",
   "metadata": {
    "scrolled": true
   },
   "outputs": [],
   "source": [
    "ind = pd.read_csv(\"./output/IND.csv\")\n",
    "\n",
    "ind[\"Date\"] = pd.to_datetime(ind[\"Date\"])\n",
    "\n",
    "data = pd.merge(ind, sctr, on=\"Date\").drop(\"Date\", axis = 1)"
   ]
  },
  {
   "cell_type": "markdown",
   "id": "eddfa472",
   "metadata": {},
   "source": [
    "# OISST 빼기(NINO3.4, ANOM)"
   ]
  },
  {
   "cell_type": "code",
   "execution_count": 5,
   "id": "2a9173b0",
   "metadata": {},
   "outputs": [
    {
     "data": {
      "text/html": [
       "<div>\n",
       "<style scoped>\n",
       "    .dataframe tbody tr th:only-of-type {\n",
       "        vertical-align: middle;\n",
       "    }\n",
       "\n",
       "    .dataframe tbody tr th {\n",
       "        vertical-align: top;\n",
       "    }\n",
       "\n",
       "    .dataframe thead th {\n",
       "        text-align: right;\n",
       "    }\n",
       "</style>\n",
       "<table border=\"1\" class=\"dataframe\">\n",
       "  <thead>\n",
       "    <tr style=\"text-align: right;\">\n",
       "      <th></th>\n",
       "      <th>WTIO</th>\n",
       "      <th>SETIO</th>\n",
       "      <th>DMI</th>\n",
       "      <th>ONI</th>\n",
       "      <th>SOI</th>\n",
       "      <th>D20_SCTR</th>\n",
       "    </tr>\n",
       "  </thead>\n",
       "  <tbody>\n",
       "    <tr>\n",
       "      <th>0</th>\n",
       "      <td>0.18</td>\n",
       "      <td>0.12</td>\n",
       "      <td>0.06</td>\n",
       "      <td>0.41</td>\n",
       "      <td>0.6</td>\n",
       "      <td>54.960640</td>\n",
       "    </tr>\n",
       "    <tr>\n",
       "      <th>1</th>\n",
       "      <td>0.05</td>\n",
       "      <td>-0.04</td>\n",
       "      <td>0.09</td>\n",
       "      <td>0.26</td>\n",
       "      <td>0.3</td>\n",
       "      <td>59.899442</td>\n",
       "    </tr>\n",
       "    <tr>\n",
       "      <th>2</th>\n",
       "      <td>-0.04</td>\n",
       "      <td>0.02</td>\n",
       "      <td>-0.06</td>\n",
       "      <td>0.22</td>\n",
       "      <td>-0.7</td>\n",
       "      <td>70.225124</td>\n",
       "    </tr>\n",
       "    <tr>\n",
       "      <th>3</th>\n",
       "      <td>0.31</td>\n",
       "      <td>-0.45</td>\n",
       "      <td>0.76</td>\n",
       "      <td>0.26</td>\n",
       "      <td>-0.6</td>\n",
       "      <td>67.375125</td>\n",
       "    </tr>\n",
       "    <tr>\n",
       "      <th>4</th>\n",
       "      <td>0.28</td>\n",
       "      <td>-0.62</td>\n",
       "      <td>0.90</td>\n",
       "      <td>0.45</td>\n",
       "      <td>-1.0</td>\n",
       "      <td>63.783066</td>\n",
       "    </tr>\n",
       "    <tr>\n",
       "      <th>...</th>\n",
       "      <td>...</td>\n",
       "      <td>...</td>\n",
       "      <td>...</td>\n",
       "      <td>...</td>\n",
       "      <td>...</td>\n",
       "      <td>...</td>\n",
       "    </tr>\n",
       "    <tr>\n",
       "      <th>395</th>\n",
       "      <td>1.14</td>\n",
       "      <td>-0.07</td>\n",
       "      <td>1.21</td>\n",
       "      <td>1.95</td>\n",
       "      <td>-0.2</td>\n",
       "      <td>124.376897</td>\n",
       "    </tr>\n",
       "    <tr>\n",
       "      <th>396</th>\n",
       "      <td>1.18</td>\n",
       "      <td>0.36</td>\n",
       "      <td>0.82</td>\n",
       "      <td>1.79</td>\n",
       "      <td>0.5</td>\n",
       "      <td>117.300079</td>\n",
       "    </tr>\n",
       "    <tr>\n",
       "      <th>397</th>\n",
       "      <td>1.22</td>\n",
       "      <td>0.92</td>\n",
       "      <td>0.30</td>\n",
       "      <td>1.49</td>\n",
       "      <td>-1.4</td>\n",
       "      <td>121.968669</td>\n",
       "    </tr>\n",
       "    <tr>\n",
       "      <th>398</th>\n",
       "      <td>0.95</td>\n",
       "      <td>0.41</td>\n",
       "      <td>0.54</td>\n",
       "      <td>1.14</td>\n",
       "      <td>0.4</td>\n",
       "      <td>118.355688</td>\n",
       "    </tr>\n",
       "    <tr>\n",
       "      <th>399</th>\n",
       "      <td>0.95</td>\n",
       "      <td>0.62</td>\n",
       "      <td>0.33</td>\n",
       "      <td>0.71</td>\n",
       "      <td>-0.2</td>\n",
       "      <td>108.767079</td>\n",
       "    </tr>\n",
       "  </tbody>\n",
       "</table>\n",
       "<p>400 rows × 6 columns</p>\n",
       "</div>"
      ],
      "text/plain": [
       "     WTIO  SETIO   DMI   ONI  SOI    D20_SCTR\n",
       "0    0.18   0.12  0.06  0.41  0.6   54.960640\n",
       "1    0.05  -0.04  0.09  0.26  0.3   59.899442\n",
       "2   -0.04   0.02 -0.06  0.22 -0.7   70.225124\n",
       "3    0.31  -0.45  0.76  0.26 -0.6   67.375125\n",
       "4    0.28  -0.62  0.90  0.45 -1.0   63.783066\n",
       "..    ...    ...   ...   ...  ...         ...\n",
       "395  1.14  -0.07  1.21  1.95 -0.2  124.376897\n",
       "396  1.18   0.36  0.82  1.79  0.5  117.300079\n",
       "397  1.22   0.92  0.30  1.49 -1.4  121.968669\n",
       "398  0.95   0.41  0.54  1.14  0.4  118.355688\n",
       "399  0.95   0.62  0.33  0.71 -0.2  108.767079\n",
       "\n",
       "[400 rows x 6 columns]"
      ]
     },
     "execution_count": 5,
     "metadata": {},
     "output_type": "execute_result"
    }
   ],
   "source": [
    "data = data.drop([\"NINO3.4\", \"ANOM\"], axis = 1)\n",
    "\n",
    "data"
   ]
  },
  {
   "cell_type": "markdown",
   "id": "9ddc7a29",
   "metadata": {},
   "source": [
    "# 중간정리\n",
    "- IOD(WTIO, SETIO, DMI)는 WTIO, SETIO / DMI로 나눠서 모델 구성\n",
    "- SOI는 이미 표준화되어 있으므로 표준화 O, X 나눠서 모델 구성"
   ]
  },
  {
   "cell_type": "markdown",
   "id": "1c7d832b",
   "metadata": {},
   "source": [
    "# 함수 로딩"
   ]
  },
  {
   "cell_type": "code",
   "execution_count": 6,
   "id": "6e1b0ae6",
   "metadata": {},
   "outputs": [],
   "source": [
    "def multivariate_data(dataset, target, start_index, end_index, history_size, target_size, step, single_step=False):\n",
    "    data = []\n",
    "    labels = []\n",
    "\n",
    "    start_index = start_index + history_size\n",
    "\n",
    "    if end_index is None:\n",
    "        end_index = len(dataset) - target_size\n",
    "\n",
    "    for i in range(start_index, end_index):\n",
    "        indices = range(i - history_size, i, step)\n",
    "        data.append(dataset[indices])\n",
    "\n",
    "        if single_step:\n",
    "            labels.append(target[i+target_size])\n",
    "        else:\n",
    "            labels.append(target[i:i + target_size])\n",
    "            \n",
    "    return np.array(data), np.array(labels)"
   ]
  },
  {
   "cell_type": "code",
   "execution_count": 7,
   "id": "2cb8b524",
   "metadata": {},
   "outputs": [],
   "source": [
    "def plot_train_history(history, function):\n",
    "    loss = history.history['loss']\n",
    "    val_loss = history.history['val_loss']\n",
    "\n",
    "    epochs = range(len(loss))\n",
    "    \n",
    "    plt.rcParams['font.family'] ='Malgun Gothic'\n",
    "    plt.figure(figsize=(12, 8))\n",
    "    \n",
    "    plt.plot(epochs, loss, 'b', label='Training loss')\n",
    "    plt.plot(epochs, val_loss, 'r', label='Validation loss')\n",
    "    \n",
    "    plt.xlabel(\"Epoch\")\n",
    "    plt.ylabel(function)\n",
    "    \n",
    "    plt.title(\"모델 손실함수 시각화\")\n",
    "    plt.legend()\n",
    "    plt.grid()\n",
    "\n",
    "    plt.show()"
   ]
  },
  {
   "cell_type": "markdown",
   "id": "9be35ea8",
   "metadata": {},
   "source": [
    "# Case1) WTIO, SETIO & SOI 표준화"
   ]
  },
  {
   "cell_type": "markdown",
   "id": "45499115",
   "metadata": {},
   "source": [
    "## 데이터 전처리"
   ]
  },
  {
   "cell_type": "code",
   "execution_count": 21,
   "id": "e497a7c9",
   "metadata": {},
   "outputs": [],
   "source": [
    "case1_df = data[['WTIO', 'SETIO', 'ONI', 'SOI', 'D20_SCTR']]\n",
    "\n",
    "case1_dts = case1_df.values\n",
    "\n",
    "case1_mean = case1_dts.mean(axis=0)\n",
    "case1_std = case1_dts.std(axis=0)\n",
    "case1_dts = (case1_dts-case1_mean)/case1_std"
   ]
  },
  {
   "cell_type": "code",
   "execution_count": 58,
   "id": "b084ce38",
   "metadata": {},
   "outputs": [
    {
     "data": {
      "text/html": [
       "<div>\n",
       "<style scoped>\n",
       "    .dataframe tbody tr th:only-of-type {\n",
       "        vertical-align: middle;\n",
       "    }\n",
       "\n",
       "    .dataframe tbody tr th {\n",
       "        vertical-align: top;\n",
       "    }\n",
       "\n",
       "    .dataframe thead th {\n",
       "        text-align: right;\n",
       "    }\n",
       "</style>\n",
       "<table border=\"1\" class=\"dataframe\">\n",
       "  <thead>\n",
       "    <tr style=\"text-align: right;\">\n",
       "      <th></th>\n",
       "      <th>WTIO</th>\n",
       "      <th>SETIO</th>\n",
       "      <th>ONI</th>\n",
       "      <th>SOI</th>\n",
       "      <th>D20_SCTR</th>\n",
       "    </tr>\n",
       "  </thead>\n",
       "  <tbody>\n",
       "    <tr>\n",
       "      <th>0</th>\n",
       "      <td>0.18</td>\n",
       "      <td>0.12</td>\n",
       "      <td>0.41</td>\n",
       "      <td>0.6</td>\n",
       "      <td>54.960640</td>\n",
       "    </tr>\n",
       "    <tr>\n",
       "      <th>1</th>\n",
       "      <td>0.05</td>\n",
       "      <td>-0.04</td>\n",
       "      <td>0.26</td>\n",
       "      <td>0.3</td>\n",
       "      <td>59.899442</td>\n",
       "    </tr>\n",
       "    <tr>\n",
       "      <th>2</th>\n",
       "      <td>-0.04</td>\n",
       "      <td>0.02</td>\n",
       "      <td>0.22</td>\n",
       "      <td>-0.7</td>\n",
       "      <td>70.225124</td>\n",
       "    </tr>\n",
       "    <tr>\n",
       "      <th>3</th>\n",
       "      <td>0.31</td>\n",
       "      <td>-0.45</td>\n",
       "      <td>0.26</td>\n",
       "      <td>-0.6</td>\n",
       "      <td>67.375125</td>\n",
       "    </tr>\n",
       "    <tr>\n",
       "      <th>4</th>\n",
       "      <td>0.28</td>\n",
       "      <td>-0.62</td>\n",
       "      <td>0.45</td>\n",
       "      <td>-1.0</td>\n",
       "      <td>63.783066</td>\n",
       "    </tr>\n",
       "    <tr>\n",
       "      <th>...</th>\n",
       "      <td>...</td>\n",
       "      <td>...</td>\n",
       "      <td>...</td>\n",
       "      <td>...</td>\n",
       "      <td>...</td>\n",
       "    </tr>\n",
       "    <tr>\n",
       "      <th>395</th>\n",
       "      <td>1.14</td>\n",
       "      <td>-0.07</td>\n",
       "      <td>1.95</td>\n",
       "      <td>-0.2</td>\n",
       "      <td>124.376897</td>\n",
       "    </tr>\n",
       "    <tr>\n",
       "      <th>396</th>\n",
       "      <td>1.18</td>\n",
       "      <td>0.36</td>\n",
       "      <td>1.79</td>\n",
       "      <td>0.5</td>\n",
       "      <td>117.300079</td>\n",
       "    </tr>\n",
       "    <tr>\n",
       "      <th>397</th>\n",
       "      <td>1.22</td>\n",
       "      <td>0.92</td>\n",
       "      <td>1.49</td>\n",
       "      <td>-1.4</td>\n",
       "      <td>121.968669</td>\n",
       "    </tr>\n",
       "    <tr>\n",
       "      <th>398</th>\n",
       "      <td>0.95</td>\n",
       "      <td>0.41</td>\n",
       "      <td>1.14</td>\n",
       "      <td>0.4</td>\n",
       "      <td>118.355688</td>\n",
       "    </tr>\n",
       "    <tr>\n",
       "      <th>399</th>\n",
       "      <td>0.95</td>\n",
       "      <td>0.62</td>\n",
       "      <td>0.71</td>\n",
       "      <td>-0.2</td>\n",
       "      <td>108.767079</td>\n",
       "    </tr>\n",
       "  </tbody>\n",
       "</table>\n",
       "<p>400 rows × 5 columns</p>\n",
       "</div>"
      ],
      "text/plain": [
       "     WTIO  SETIO   ONI  SOI    D20_SCTR\n",
       "0    0.18   0.12  0.41  0.6   54.960640\n",
       "1    0.05  -0.04  0.26  0.3   59.899442\n",
       "2   -0.04   0.02  0.22 -0.7   70.225124\n",
       "3    0.31  -0.45  0.26 -0.6   67.375125\n",
       "4    0.28  -0.62  0.45 -1.0   63.783066\n",
       "..    ...    ...   ...  ...         ...\n",
       "395  1.14  -0.07  1.95 -0.2  124.376897\n",
       "396  1.18   0.36  1.79  0.5  117.300079\n",
       "397  1.22   0.92  1.49 -1.4  121.968669\n",
       "398  0.95   0.41  1.14  0.4  118.355688\n",
       "399  0.95   0.62  0.71 -0.2  108.767079\n",
       "\n",
       "[400 rows x 5 columns]"
      ]
     },
     "execution_count": 58,
     "metadata": {},
     "output_type": "execute_result"
    }
   ],
   "source": [
    "case1_df"
   ]
  },
  {
   "cell_type": "code",
   "execution_count": 44,
   "id": "f1ac587c",
   "metadata": {},
   "outputs": [
    {
     "data": {
      "text/plain": [
       "400"
      ]
     },
     "execution_count": 44,
     "metadata": {},
     "output_type": "execute_result"
    }
   ],
   "source": [
    "len(case1_dts)"
   ]
  },
  {
   "cell_type": "markdown",
   "id": "66220aaa",
   "metadata": {},
   "source": [
    "## 하이퍼 파라매터 세팅"
   ]
  },
  {
   "cell_type": "code",
   "execution_count": 73,
   "id": "ab16c361",
   "metadata": {},
   "outputs": [],
   "source": [
    "# 학습(0.7) - 평가(0.2) - 검증(0.1) 데이터 분리\n",
    "TRAIN_SPLIT = int(len(case1_dts) * 0.7)\n",
    "TEST_SPLIT = int(len(case1_dts) * 0.2)\n",
    "\n",
    "BATCH_SIZE = 32\n",
    "EPOCHS = 120\n",
    "\n",
    "# 12개월 학습 - 12개월 예측\n",
    "past_history = 12\n",
    "future_target = 12\n",
    "STEP = 1\n",
    "\n",
    "tf.random.set_seed(13)"
   ]
  },
  {
   "cell_type": "code",
   "execution_count": 61,
   "id": "69833c8a",
   "metadata": {},
   "outputs": [
    {
     "data": {
      "text/plain": [
       "280"
      ]
     },
     "execution_count": 61,
     "metadata": {},
     "output_type": "execute_result"
    }
   ],
   "source": [
    "TRAIN_SPLIT"
   ]
  },
  {
   "cell_type": "code",
   "execution_count": 59,
   "id": "1bbe99e3",
   "metadata": {},
   "outputs": [
    {
     "data": {
      "text/plain": [
       "80"
      ]
     },
     "execution_count": 59,
     "metadata": {},
     "output_type": "execute_result"
    }
   ],
   "source": [
    "TEST_SPLIT"
   ]
  },
  {
   "cell_type": "code",
   "execution_count": 60,
   "id": "d07c45bb",
   "metadata": {},
   "outputs": [
    {
     "name": "stdout",
     "output_type": "stream",
     "text": [
      "(268, 12, 5)\n",
      "Single window of past history : (12, 5)\n",
      "Target time to predict : (12,)\n",
      "(68, 12, 5)\n",
      "(16, 12, 5)\n"
     ]
    }
   ],
   "source": [
    "x_train_multi, y_train_multi = multivariate_data(case1_dts, case1_dts[:, -1], 0, TRAIN_SPLIT, past_history, future_target, STEP)\n",
    "\n",
    "x_val_multi, y_val_multi = multivariate_data(case1_dts, case1_dts[:, -1], TRAIN_SPLIT, TRAIN_SPLIT + TEST_SPLIT, past_history, future_target, STEP)\n",
    "\n",
    "x_test_multi, y_test_multi = multivariate_data(case1_dts, case1_dts[:, -1], TRAIN_SPLIT + TEST_SPLIT, None, past_history, future_target, STEP)\n",
    "\n",
    "print(x_train_multi.shape)\n",
    "print('Single window of past history : {}'.format(x_train_multi[0].shape))\n",
    "print('Target time to predict : {}'.format(y_train_multi[0].shape))\n",
    "\n",
    "print(x_val_multi.shape)\n",
    "\n",
    "print(x_test_multi.shape)"
   ]
  },
  {
   "cell_type": "code",
   "execution_count": 66,
   "id": "b4ba6b37",
   "metadata": {},
   "outputs": [
    {
     "name": "stdout",
     "output_type": "stream",
     "text": [
      "학습 데이터 형태: (256, 12, 5)\n",
      "검증 데이터 형태: (56, 12, 5)\n",
      "테스트 데이터 형태: (16, 12, 5)\n",
      "과거 데이터 윈도우 형태: (12, 5)\n",
      "예측 목표 기간 형태: (12,)\n"
     ]
    }
   ],
   "source": [
    "# 전체 데이터 길이\n",
    "total_length = len(case1_dts)\n",
    "\n",
    "# 학습(0.7) - 검증(0.2) - 테스트(0.1) 데이터 분리\n",
    "TRAIN_SPLIT = int(total_length * 0.7)\n",
    "VAL_SPLIT = int(total_length * 0.2)\n",
    "TEST_SPLIT = total_length - TRAIN_SPLIT - VAL_SPLIT\n",
    "\n",
    "# 12개월 학습 - 12개월 예측\n",
    "past_history = 12\n",
    "future_target = 12\n",
    "STEP = 1\n",
    "\n",
    "# 학습 데이터\n",
    "x_train_multi, y_train_multi = multivariate_data(case1_dts, case1_dts[:, -1], 0, TRAIN_SPLIT - future_target, past_history, future_target, STEP)\n",
    "\n",
    "# 검증 데이터\n",
    "x_val_multi, y_val_multi = multivariate_data(case1_dts, case1_dts[:, -1], TRAIN_SPLIT, TRAIN_SPLIT + VAL_SPLIT - future_target, past_history, future_target, STEP)\n",
    "\n",
    "# 테스트 데이터\n",
    "x_test_multi, y_test_multi = multivariate_data(case1_dts, case1_dts[:, -1], TRAIN_SPLIT + VAL_SPLIT, None, past_history, future_target, STEP)\n",
    "\n",
    "print(f\"학습 데이터 형태: {x_train_multi.shape}\")\n",
    "print(f\"검증 데이터 형태: {x_val_multi.shape}\")\n",
    "print(f\"테스트 데이터 형태: {x_test_multi.shape}\")\n",
    "\n",
    "print('과거 데이터 윈도우 형태: {}'.format(x_train_multi[0].shape))\n",
    "print('예측 목표 기간 형태: {}'.format(y_train_multi[0].shape))"
   ]
  },
  {
   "cell_type": "code",
   "execution_count": 75,
   "id": "61691322",
   "metadata": {},
   "outputs": [],
   "source": [
    "BUFFER_SIZE = 100\n",
    "\n",
    "train_data_multi = tf.data.Dataset.from_tensor_slices((x_train_multi, y_train_multi))\n",
    "\n",
    "train_data_multi = train_data_multi.cache().shuffle(BUFFER_SIZE).batch(BATCH_SIZE).repeat()\n",
    "\n",
    "val_data_multi = tf.data.Dataset.from_tensor_slices((x_val_multi, y_val_multi))\n",
    "val_data_multi = val_data_multi.batch(BATCH_SIZE).repeat()"
   ]
  },
  {
   "cell_type": "code",
   "execution_count": 76,
   "id": "89222ad5",
   "metadata": {},
   "outputs": [
    {
     "name": "stdout",
     "output_type": "stream",
     "text": [
      "Epoch 1/120\n",
      "8/8 [==============================] - 5s 107ms/step - loss: 0.7113 - val_loss: 0.7701 - lr: 0.0010\n",
      "Epoch 2/120\n",
      "8/8 [==============================] - 0s 11ms/step - loss: 0.7065 - val_loss: 0.7674 - lr: 0.0010\n",
      "Epoch 3/120\n",
      "8/8 [==============================] - 0s 11ms/step - loss: 0.7023 - val_loss: 0.7650 - lr: 0.0010\n",
      "Epoch 4/120\n",
      "8/8 [==============================] - 0s 12ms/step - loss: 0.6986 - val_loss: 0.7648 - lr: 0.0010\n",
      "Epoch 5/120\n",
      "8/8 [==============================] - 0s 11ms/step - loss: 0.6936 - val_loss: 0.7662 - lr: 0.0010\n",
      "Epoch 6/120\n",
      "8/8 [==============================] - 0s 11ms/step - loss: 0.6936 - val_loss: 0.7673 - lr: 0.0010\n",
      "Epoch 7/120\n",
      "8/8 [==============================] - 0s 12ms/step - loss: 0.6873 - val_loss: 0.7698 - lr: 0.0010\n",
      "Epoch 8/120\n",
      "8/8 [==============================] - 0s 10ms/step - loss: 0.6834 - val_loss: 0.7680 - lr: 0.0010\n",
      "Epoch 9/120\n",
      "7/8 [=========================>....] - ETA: 0s - loss: 0.6832\n",
      "Epoch 9: ReduceLROnPlateau reducing learning rate to 0.0005000000237487257.\n",
      "8/8 [==============================] - 0s 12ms/step - loss: 0.6777 - val_loss: 0.7678 - lr: 0.0010\n",
      "Epoch 10/120\n",
      "8/8 [==============================] - 0s 11ms/step - loss: 0.6730 - val_loss: 0.7687 - lr: 5.0000e-04\n",
      "Epoch 11/120\n",
      "8/8 [==============================] - 0s 11ms/step - loss: 0.6691 - val_loss: 0.7687 - lr: 5.0000e-04\n",
      "Epoch 12/120\n",
      "8/8 [==============================] - 0s 11ms/step - loss: 0.6677 - val_loss: 0.7684 - lr: 5.0000e-04\n",
      "Epoch 13/120\n",
      "8/8 [==============================] - 0s 10ms/step - loss: 0.6661 - val_loss: 0.7700 - lr: 5.0000e-04\n",
      "Epoch 14/120\n",
      "7/8 [=========================>....] - ETA: 0s - loss: 0.6737\n",
      "Epoch 14: ReduceLROnPlateau reducing learning rate to 0.0002500000118743628.\n",
      "8/8 [==============================] - 0s 12ms/step - loss: 0.6700 - val_loss: 0.7680 - lr: 5.0000e-04\n"
     ]
    },
    {
     "ename": "NameError",
     "evalue": "name 'plt' is not defined",
     "output_type": "error",
     "traceback": [
      "\u001b[1;31m---------------------------------------------------------------------------\u001b[0m",
      "\u001b[1;31mNameError\u001b[0m                                 Traceback (most recent call last)",
      "\u001b[1;32mC:\\Users\\Public\\Documents\\ESTsoft\\CreatorTemp\\ipykernel_29144\\2070560357.py\u001b[0m in \u001b[0;36m<module>\u001b[1;34m\u001b[0m\n\u001b[0;32m     44\u001b[0m     ])\n\u001b[0;32m     45\u001b[0m \u001b[1;33m\u001b[0m\u001b[0m\n\u001b[1;32m---> 46\u001b[1;33m \u001b[0mplot_train_history\u001b[0m\u001b[1;33m(\u001b[0m\u001b[0mmulti_step_history\u001b[0m\u001b[1;33m,\u001b[0m \u001b[1;34m\"Case1\"\u001b[0m\u001b[1;33m)\u001b[0m\u001b[1;33m\u001b[0m\u001b[1;33m\u001b[0m\u001b[0m\n\u001b[0m",
      "\u001b[1;32mC:\\Users\\Public\\Documents\\ESTsoft\\CreatorTemp\\ipykernel_29144\\1724174951.py\u001b[0m in \u001b[0;36mplot_train_history\u001b[1;34m(history, function)\u001b[0m\n\u001b[0;32m      5\u001b[0m     \u001b[0mepochs\u001b[0m \u001b[1;33m=\u001b[0m \u001b[0mrange\u001b[0m\u001b[1;33m(\u001b[0m\u001b[0mlen\u001b[0m\u001b[1;33m(\u001b[0m\u001b[0mloss\u001b[0m\u001b[1;33m)\u001b[0m\u001b[1;33m)\u001b[0m\u001b[1;33m\u001b[0m\u001b[1;33m\u001b[0m\u001b[0m\n\u001b[0;32m      6\u001b[0m \u001b[1;33m\u001b[0m\u001b[0m\n\u001b[1;32m----> 7\u001b[1;33m     \u001b[0mplt\u001b[0m\u001b[1;33m.\u001b[0m\u001b[0mrcParams\u001b[0m\u001b[1;33m[\u001b[0m\u001b[1;34m'font.family'\u001b[0m\u001b[1;33m]\u001b[0m \u001b[1;33m=\u001b[0m\u001b[1;34m'Malgun Gothic'\u001b[0m\u001b[1;33m\u001b[0m\u001b[1;33m\u001b[0m\u001b[0m\n\u001b[0m\u001b[0;32m      8\u001b[0m     \u001b[0mplt\u001b[0m\u001b[1;33m.\u001b[0m\u001b[0mfigure\u001b[0m\u001b[1;33m(\u001b[0m\u001b[0mfigsize\u001b[0m\u001b[1;33m=\u001b[0m\u001b[1;33m(\u001b[0m\u001b[1;36m12\u001b[0m\u001b[1;33m,\u001b[0m \u001b[1;36m8\u001b[0m\u001b[1;33m)\u001b[0m\u001b[1;33m)\u001b[0m\u001b[1;33m\u001b[0m\u001b[1;33m\u001b[0m\u001b[0m\n\u001b[0;32m      9\u001b[0m \u001b[1;33m\u001b[0m\u001b[0m\n",
      "\u001b[1;31mNameError\u001b[0m: name 'plt' is not defined"
     ]
    }
   ],
   "source": [
    "from tensorflow.keras.optimizers import RMSprop\n",
    "from tensorflow.keras.callbacks import LearningRateScheduler, EarlyStopping, ReduceLROnPlateau\n",
    "from tensorflow.keras.models import Sequential\n",
    "from tensorflow.keras.layers import LSTM, Dropout, Dense\n",
    "\n",
    "# 학습률 감소\n",
    "# def lr_scheduler(epoch, lr):\n",
    "#     if epoch < 10:\n",
    "#         return lr\n",
    "#     else:\n",
    "#         return lr * tf.math.exp(-0.1)\n",
    "\n",
    "# lr_scheduler = LearningRateScheduler(lr_scheduler, verbose=1)    \n",
    "    \n",
    "initial_lr = 0.001\n",
    "optimizer = RMSprop(learning_rate=initial_lr, clipvalue=1.0)\n",
    "\n",
    "# 학습률 재시작\n",
    "lr_restart = ReduceLROnPlateau(monitor='val_loss', factor=0.5, patience=5, verbose=1, min_lr=1e-6)\n",
    "\n",
    "# EarlyStopping\n",
    "early_stop = EarlyStopping(monitor='val_loss', patience=10, restore_best_weights=True)\n",
    "\n",
    "multi_step_model = Sequential()\n",
    "\n",
    "multi_step_model.add(LSTM(32, return_sequences=True, input_shape=x_train_multi.shape[-2:]))\n",
    "multi_step_model.add(Dropout(0.2))\n",
    "multi_step_model.add(LSTM(16, activation='relu'))\n",
    "multi_step_model.add(Dropout(0.2))\n",
    "multi_step_model.add(Dense(12))\n",
    "\n",
    "multi_step_model.compile(optimizer=optimizer, loss='mae')\n",
    "\n",
    "multi_step_history = multi_step_model.fit(\n",
    "    train_data_multi, \n",
    "    epochs = EPOCHS, \n",
    "    steps_per_epoch = x_train_multi.shape[0] // BATCH_SIZE, \n",
    "    validation_data = val_data_multi, \n",
    "    validation_steps = x_val_multi.shape[0] // BATCH_SIZE,\n",
    "    callbacks=[\n",
    "#         lr_scheduler, \n",
    "        lr_restart, \n",
    "        early_stop\n",
    "    ])\n",
    "\n",
    "plot_train_history(multi_step_history, \"Case1\")"
   ]
  }
 ],
 "metadata": {
  "kernelspec": {
   "display_name": "Python 3 (ipykernel)",
   "language": "python",
   "name": "python3"
  },
  "language_info": {
   "codemirror_mode": {
    "name": "ipython",
    "version": 3
   },
   "file_extension": ".py",
   "mimetype": "text/x-python",
   "name": "python",
   "nbconvert_exporter": "python",
   "pygments_lexer": "ipython3",
   "version": "3.9.13"
  },
  "toc": {
   "base_numbering": 1,
   "nav_menu": {},
   "number_sections": true,
   "sideBar": true,
   "skip_h1_title": false,
   "title_cell": "Table of Contents",
   "title_sidebar": "Contents",
   "toc_cell": false,
   "toc_position": {
    "height": "calc(100% - 180px)",
    "left": "10px",
    "top": "150px",
    "width": "460.8px"
   },
   "toc_section_display": true,
   "toc_window_display": true
  }
 },
 "nbformat": 4,
 "nbformat_minor": 5
}
