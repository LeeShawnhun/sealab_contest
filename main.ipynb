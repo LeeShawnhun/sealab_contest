{
 "cells": [
  {
   "cell_type": "code",
   "execution_count": 1,
   "id": "0d4cd76a",
   "metadata": {},
   "outputs": [
    {
     "name": "stdout",
     "output_type": "stream",
     "text": [
      "Requirement already satisfied: xarray in c:\\users\\digital1\\anaconda3\\lib\\site-packages (0.20.1)Note: you may need to restart the kernel to use updated packages.\n",
      "\n",
      "Requirement already satisfied: numpy>=1.18 in c:\\users\\digital1\\anaconda3\\lib\\site-packages (from xarray) (1.26.4)\n",
      "Requirement already satisfied: pandas>=1.1 in c:\\users\\digital1\\anaconda3\\lib\\site-packages (from xarray) (1.4.4)\n",
      "Requirement already satisfied: python-dateutil>=2.8.1 in c:\\users\\digital1\\anaconda3\\lib\\site-packages (from pandas>=1.1->xarray) (2.8.2)\n",
      "Requirement already satisfied: pytz>=2020.1 in c:\\users\\digital1\\anaconda3\\lib\\site-packages (from pandas>=1.1->xarray) (2022.1)\n",
      "Requirement already satisfied: six>=1.5 in c:\\users\\digital1\\anaconda3\\lib\\site-packages (from python-dateutil>=2.8.1->pandas>=1.1->xarray) (1.16.0)\n"
     ]
    }
   ],
   "source": [
    "pip install xarray"
   ]
  },
  {
   "cell_type": "code",
   "execution_count": 10,
   "id": "4e276931",
   "metadata": {},
   "outputs": [],
   "source": [
    "import xarray as xr\n",
    "import pandas as pd\n",
    "\n",
    "# nc 파일 열기\n",
    "ds = xr.open_dataset('/data/EN.4.2.2_D20_SCTR_f.nc')\n",
    "\n",
    "# DataArray를 DataFrame으로 변환\n",
    "df = ds.D20_SCTR.to_dataframe()\n",
    "\n",
    "# 인덱스를 열로 변환 (선택사항)\n",
    "df = df.reset_index(inplace=True)\n",
    "\n",
    "df.to_dataframe\n",
    "\n",
    "ds.close()"
   ]
  }
 ],
 "metadata": {
  "kernelspec": {
   "display_name": "Python 3 (ipykernel)",
   "language": "python",
   "name": "python3"
  },
  "language_info": {
   "codemirror_mode": {
    "name": "ipython",
    "version": 3
   },
   "file_extension": ".py",
   "mimetype": "text/x-python",
   "name": "python",
   "nbconvert_exporter": "python",
   "pygments_lexer": "ipython3",
   "version": "3.9.13"
  },
  "toc": {
   "base_numbering": 1,
   "nav_menu": {},
   "number_sections": true,
   "sideBar": true,
   "skip_h1_title": false,
   "title_cell": "Table of Contents",
   "title_sidebar": "Contents",
   "toc_cell": false,
   "toc_position": {},
   "toc_section_display": true,
   "toc_window_display": false
  }
 },
 "nbformat": 4,
 "nbformat_minor": 5
}
